{
 "cells": [
  {
   "cell_type": "code",
   "execution_count": 14,
   "metadata": {},
   "outputs": [
    {
     "data": {
      "text/plain": [
       "{'channels': 1,\n",
       " 'sample_rate': 16000.0,\n",
       " 'bitdepth': 16,\n",
       " 'bitrate': 256000.0,\n",
       " 'duration': 7.14,\n",
       " 'num_samples': 114240,\n",
       " 'encoding': 'Signed Integer PCM',\n",
       " 'silent': False}"
      ]
     },
     "execution_count": 14,
     "metadata": {},
     "output_type": "execute_result"
    }
   ],
   "source": [
    "import sox\n",
    "sox.file_info.info('/Netdata/zhanghz/oneshot/fastspeech/aishell/taiwan_demo/long_audio_clip/hh0.wav')"
   ]
  },
  {
   "cell_type": "code",
   "execution_count": 3,
   "metadata": {},
   "outputs": [
    {
     "data": {
      "text/plain": [
       "{'channels': 1,\n",
       " 'sample_rate': 16000.0,\n",
       " 'bitdepth': 16,\n",
       " 'bitrate': 256000.0,\n",
       " 'duration': 5.625,\n",
       " 'num_samples': 90000,\n",
       " 'encoding': 'Signed Integer PCM',\n",
       " 'silent': False}"
      ]
     },
     "execution_count": 3,
     "metadata": {},
     "output_type": "execute_result"
    }
   ],
   "source": [
    "sox.file_info.info('/Netdata/yangyg/el-paper/bn2mel/log-el-pretrained/syn_wav/sur-116939.wav')"
   ]
  },
  {
   "cell_type": "code",
   "execution_count": null,
   "metadata": {},
   "outputs": [],
   "source": []
  }
 ],
 "metadata": {
  "kernelspec": {
   "display_name": "Python [conda env:pytorch]",
   "language": "python",
   "name": "conda-env-pytorch-py"
  },
  "language_info": {
   "codemirror_mode": {
    "name": "ipython",
    "version": 3
   },
   "file_extension": ".py",
   "mimetype": "text/x-python",
   "name": "python",
   "nbconvert_exporter": "python",
   "pygments_lexer": "ipython3",
   "version": "3.7.9"
  }
 },
 "nbformat": 4,
 "nbformat_minor": 2
}
